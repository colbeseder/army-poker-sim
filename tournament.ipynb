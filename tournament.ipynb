{
 "cells": [
  {
   "cell_type": "code",
   "execution_count": 1,
   "metadata": {},
   "outputs": [],
   "source": [
    "# Import the strategies for comparing\n",
    "\n",
    "from src.strategies import preferFlush, preferFlushGroups, preferGroupFlushStraight, preferGroups, preferGroupsFlush, preferGroupStraightFlush, preferStraightFlushGroup, preferFlushStraightGroup, chooseLeft\n",
    "allStrategies = [preferFlush, preferFlushGroups, preferGroupFlushStraight, preferGroups, preferGroupsFlush, preferGroupStraightFlush, preferFlushStraightGroup, preferStraightFlushGroup, chooseLeft]\n",
    "\n",
    "ITERATIONS = 10000"
   ]
  },
  {
   "cell_type": "code",
   "execution_count": 2,
   "metadata": {},
   "outputs": [],
   "source": [
    "import itertools\n",
    "pairings = itertools.combinations(allStrategies, 2)\n",
    "\n",
    "resultsTable = []\n",
    "\n",
    "winners = []\n",
    "\n",
    "def getPrettyName(nm):\n",
    "    return nm.split(\".\")[-1]\n",
    "\n",
    "for pairing in pairings:\n",
    "    s1 = pairing[0]\n",
    "    s2 = pairing[1]\n",
    "    score = headToHead.head2Head(s1, s2, ITERATIONS)\n",
    "    winner = s2\n",
    "    loser = s1\n",
    "    if score > 0:\n",
    "        winner = s1\n",
    "        loser = s2\n",
    "        \n",
    "    #print(\"%s beat %s\" % (getPrettyName(winner.__name__), getPrettyName(loser.__name__)))\n",
    "    winners.append(winner)\n",
    "\n",
    "    winPercentage = int((((ITERATIONS - abs(score)) / 2) + abs(score) ) / ITERATIONS * 100)\n",
    "    resultsTable.append([getPrettyName(winner.__name__), getPrettyName(loser.__name__), abs(winPercentage)])\n",
    "\n",
    "results = {}\n",
    "for strat in set(allStrategies):\n",
    "    results[getPrettyName(strat.__name__)] = winners.count(strat)"
   ]
  },
  {
   "cell_type": "code",
   "execution_count": null,
   "metadata": {},
   "outputs": [],
   "source": [
    "import pandas as pd\n",
    "pd.DataFrame(resultsTable, columns=[\"Winner\", \"Loser\", \"%\"]).sort_values('%')\n"
   ]
  },
  {
   "cell_type": "code",
   "execution_count": null,
   "metadata": {},
   "outputs": [],
   "source": [
    "def most_common(lst):\n",
    "    return max(set(lst), key=lst.count)\n",
    "\n",
    "print(\"The winner is %s\" % (getPrettyName(most_common(winners).__name__)))"
   ]
  }
 ],
 "metadata": {
  "kernelspec": {
   "display_name": "Python 3",
   "language": "python",
   "name": "python3"
  },
  "language_info": {
   "codemirror_mode": {
    "name": "ipython",
    "version": 3
   },
   "file_extension": ".py",
   "mimetype": "text/x-python",
   "name": "python",
   "nbconvert_exporter": "python",
   "pygments_lexer": "ipython3",
   "version": "3.11.5"
  },
  "orig_nbformat": 4,
  "vscode": {
   "interpreter": {
    "hash": "b0fa6594d8f4cbf19f97940f81e996739fb7646882a419484c72d19e05852a7e"
   }
  }
 },
 "nbformat": 4,
 "nbformat_minor": 2
}
