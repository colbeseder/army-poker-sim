{
 "cells": [
  {
   "attachments": {},
   "cell_type": "markdown",
   "metadata": {},
   "source": [
    "Army Poker Sim\n",
    "==============\n",
    "\n",
    "In the army in 2023, we played a game that we (incorrectly) call \"_Chinese Poker_\".\n",
    "\n",
    "During those games, several questions arose. This project aims to anser those questions, by simulating larget numbers of random games.\n",
    "\n",
    "Questions\n",
    "---------\n",
    "\n",
    "1. How much does luck play a factor? (vs ideal strategy)\n",
    "2. Is it better to focus on grouping, or flush/straight?\n",
    "3. Is a _flush_ unfairly weighted?\n",
    "\n"
   ]
  },
  {
   "cell_type": "code",
   "execution_count": 1,
   "metadata": {},
   "outputs": [],
   "source": [
    "# Setup\n",
    "\n",
    "import pkgutil\n",
    "from src import headToHead\n",
    "from src import strategies\n",
    "\n",
    "# Import strategies for comparison\n",
    "package = strategies\n",
    "prefix = package.__name__ + \".\"\n",
    "\n",
    "allStrategies = []\n",
    "for importer, modname, ispkg in pkgutil.iter_modules(package.__path__, prefix):\n",
    "    allStrategies.append(__import__(modname, fromlist=\"dummy\"))\n",
    "\n",
    "#allStrategies = [strategies.preferGroupFlushStraight, strategies.poppy, strategies.bobby]\n",
    "\n",
    "ITERATIONS = 10000"
   ]
  },
  {
   "attachments": {},
   "cell_type": "markdown",
   "metadata": {},
   "source": [
    "We will put all of our strategies in a _round-robin_ tournament. Each match-up consists of 10000 games.\n",
    "\n",
    "\n",
    "A win counts as 1 point (regardless of how many columns won)."
   ]
  },
  {
   "cell_type": "code",
   "execution_count": 2,
   "metadata": {},
   "outputs": [],
   "source": [
    "import itertools\n",
    "pairings = itertools.combinations(allStrategies, 2)\n",
    "\n",
    "resultsTable = []\n",
    "\n",
    "winners = []\n",
    "\n",
    "def getPrettyName(nm):\n",
    "    return nm.split(\".\")[-1]\n",
    "\n",
    "for pairing in pairings:\n",
    "    s1 = pairing[0]\n",
    "    s2 = pairing[1]\n",
    "    score = headToHead.head2Head(s1, s2, ITERATIONS)\n",
    "    winner = s2\n",
    "    loser = s1\n",
    "    if score > 0:\n",
    "        winner = s1\n",
    "        loser = s2\n",
    "\n",
    "    #print(\"%s beat %s\" % (getPrettyName(winner.__name__), getPrettyName(loser.__name__)))\n",
    "    winners.append(winner)\n",
    "\n",
    "    winPercentage = (((ITERATIONS - abs(score)) / 2) + abs(score) ) / ITERATIONS * 100\n",
    "    resultsTable.append([getPrettyName(winner.__name__), getPrettyName(loser.__name__), abs(winPercentage)])\n",
    "\n",
    "results = {}\n",
    "for strat in set(allStrategies):\n",
    "    results[getPrettyName(strat.__name__)] = winners.count(strat)"
   ]
  },
  {
   "attachments": {},
   "cell_type": "markdown",
   "metadata": {},
   "source": [
    "Round-Robin Results\n",
    "-------------------"
   ]
  },
  {
   "cell_type": "code",
   "execution_count": 3,
   "metadata": {},
   "outputs": [
    {
     "data": {
      "text/html": [
       "<table border=\"1\" class=\"dataframe\">\n",
       "  <thead>\n",
       "    <tr style=\"text-align: right;\">\n",
       "      <th>Winner</th>\n",
       "      <th>Loser</th>\n",
       "      <th>%</th>\n",
       "    </tr>\n",
       "  </thead>\n",
       "  <tbody>\n",
       "    <tr>\n",
       "      <td>bobby</td>\n",
       "      <td>poppy</td>\n",
       "      <td>53.205</td>\n",
       "    </tr>\n",
       "    <tr>\n",
       "      <td>bobby</td>\n",
       "      <td>preferGroupFlushStraight</td>\n",
       "      <td>51.365</td>\n",
       "    </tr>\n",
       "    <tr>\n",
       "      <td>preferGroupFlushStraight</td>\n",
       "      <td>poppy</td>\n",
       "      <td>50.780</td>\n",
       "    </tr>\n",
       "  </tbody>\n",
       "</table>"
      ],
      "text/plain": [
       "<IPython.core.display.HTML object>"
      ]
     },
     "execution_count": 3,
     "metadata": {},
     "output_type": "execute_result"
    }
   ],
   "source": [
    "import pandas as pd\n",
    "from IPython.display import HTML\n",
    "df = pd.DataFrame(resultsTable, columns=[\"Winner\", \"Loser\", \"%\"]).sort_values('%', ascending=False)\n",
    "HTML(df.to_html(index=False))"
   ]
  },
  {
   "cell_type": "code",
   "execution_count": 4,
   "metadata": {},
   "outputs": [
    {
     "data": {
      "text/html": [
       "<table border=\"1\" class=\"dataframe\">\n",
       "  <thead>\n",
       "    <tr style=\"text-align: right;\">\n",
       "      <th>Strategy</th>\n",
       "      <th>%</th>\n",
       "    </tr>\n",
       "  </thead>\n",
       "  <tbody>\n",
       "    <tr>\n",
       "      <td>bobby</td>\n",
       "      <td>52.29</td>\n",
       "    </tr>\n",
       "    <tr>\n",
       "      <td>preferGroupFlushStraight</td>\n",
       "      <td>49.71</td>\n",
       "    </tr>\n",
       "    <tr>\n",
       "      <td>poppy</td>\n",
       "      <td>48.01</td>\n",
       "    </tr>\n",
       "  </tbody>\n",
       "</table>"
      ],
      "text/plain": [
       "<IPython.core.display.HTML object>"
      ]
     },
     "execution_count": 4,
     "metadata": {},
     "output_type": "execute_result"
    }
   ],
   "source": [
    "winPercentageTable = {}\n",
    "for row in resultsTable:\n",
    "    if row[0] not in winPercentageTable:\n",
    "        winPercentageTable[row[0]] = 0\n",
    "    if row[1] not in winPercentageTable:\n",
    "        winPercentageTable[row[1]] = 0\n",
    "    \n",
    "    winPercentageTable[row[0]] += row[2]\n",
    "    winPercentageTable[row[1]] += 100 - row[2]\n",
    "\n",
    "for strat in winPercentageTable:\n",
    "    winPercentageTable[strat] = round(winPercentageTable[strat] / (len(allStrategies)-1), 2)\n",
    "\n",
    "winPercentageDF = pd.DataFrame([[strat, winPercentageTable[strat]] for strat in winPercentageTable], columns=[\"Strategy\", \"%\"]).sort_values('%', ascending=False)\n",
    "HTML(winPercentageDF.to_html(index=False))\n",
    "    "
   ]
  },
  {
   "cell_type": "code",
   "execution_count": 5,
   "metadata": {},
   "outputs": [
    {
     "data": {
      "text/plain": [
       "[{'strat': 'bobby', 'count': 2},\n",
       " {'strat': 'preferGroupFlushStraight', 'count': 1}]"
      ]
     },
     "execution_count": 5,
     "metadata": {},
     "output_type": "execute_result"
    }
   ],
   "source": [
    "orderedWinners = list(set(winners))\n",
    "orderedWinners.sort(key=lambda strat: winners.count(strat), reverse=True)\n",
    "winnerStats = [{\"strat\": getPrettyName(strat.__name__), \"count\": winners.count(strat)} for strat in orderedWinners]\n",
    "#orderedWinners.sort(key=lambda strat: winners.count(strat))\n",
    "winnerStats"
   ]
  },
  {
   "cell_type": "code",
   "execution_count": 6,
   "metadata": {},
   "outputs": [
    {
     "name": "stdout",
     "output_type": "stream",
     "text": [
      "The Strategy that won the most games was bobby, winning 52.29% of its games.\n",
      "The strategy that is best against the most opponents is bobby, winning against 2 out of 2 rivals\n"
     ]
    }
   ],
   "source": [
    "print(\"The Strategy that won the most games was %s, winning %s%% of its games.\" % (winPercentageDF.iloc[0][0], winPercentageDF.iloc[0][1]))\n",
    "\n",
    "print(\"The strategy that is best against the most opponents is %s, winning against %s out of %s rivals\" % (winnerStats[0][\"strat\"], winnerStats[0][\"count\"], (len(allStrategies)-1)))"
   ]
  }
 ],
 "metadata": {
  "kernelspec": {
   "display_name": "Python 3",
   "language": "python",
   "name": "python3"
  },
  "language_info": {
   "codemirror_mode": {
    "name": "ipython",
    "version": 3
   },
   "file_extension": ".py",
   "mimetype": "text/x-python",
   "name": "python",
   "nbconvert_exporter": "python",
   "pygments_lexer": "ipython3",
   "version": "3.11.5"
  },
  "orig_nbformat": 4,
  "vscode": {
   "interpreter": {
    "hash": "b0fa6594d8f4cbf19f97940f81e996739fb7646882a419484c72d19e05852a7e"
   }
  }
 },
 "nbformat": 4,
 "nbformat_minor": 2
}
